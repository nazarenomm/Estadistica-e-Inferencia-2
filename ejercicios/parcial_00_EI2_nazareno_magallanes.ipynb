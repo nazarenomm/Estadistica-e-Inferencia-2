{
 "cells": [
  {
   "cell_type": "markdown",
   "metadata": {},
   "source": [
    "# Preguntas parcial 00 EI2\n",
    "\n",
    "1) ¿Qué significa que una distribución sea conjugada de una verosimilitud (likelihood)? "
   ]
  },
  {
   "cell_type": "markdown",
   "metadata": {},
   "source": [
    "Significa que si uso esa distribución como _prior_, la distribución _posterior_ tendrá la misma forma dicho _prior_.  \n",
    "Por ejemplo en el modelo Beta-Binomial se usa como prior a Beta y la posterior resultante tambien es un distribución Beta."
   ]
  },
  {
   "cell_type": "markdown",
   "metadata": {},
   "source": [
    "2) ¿Por qué el resultado de un análisis Bayesiano es siempre una distribución de probabilidad y no una estimación puntual?"
   ]
  },
  {
   "cell_type": "markdown",
   "metadata": {},
   "source": [
    "En el enfoque bayesiano se agrega el conocimiento previo que se modela como una distribución de probabilidad para un parametro y eso lleva a que el resultado sea una distribución también, la distribución _posterior_."
   ]
  },
  {
   "cell_type": "markdown",
   "metadata": {},
   "source": [
    "\n",
    "3) En el siguiente modelo $Y$ representa los datos\n",
    "\n",
    "\\begin{align}\n",
    "Y \\sim& \\text{Poisson}(\\lambda)\\\\\n",
    "\\lambda \\sim& \\mathcal{N}(5, 1)\n",
    "\\end{align}\n",
    "\n",
    "a) Identifique la distribución a priori y el likelihood (verosimilitud)\n",
    "\n",
    "b) ¿Cúal será el dominio de la distribución a posteriori? \n",
    "\n",
    "$[0, 1]$, $[0, 5]$, $[0, \\infty)$, $(-\\infty, \\infty)$. Justifique."
   ]
  },
  {
   "cell_type": "markdown",
   "metadata": {},
   "source": [
    "a) La _likelihood_ seria la distribución Poisson, mientras que el prior de su parametro $\\lambda$ sería la $Normal(5, 1)$  \n",
    "b) "
   ]
  },
  {
   "cell_type": "markdown",
   "metadata": {},
   "source": [
    "4) ¿Qué representa la distribución predictiva a posteriori? En que se diferencia de la distribución a posteriori?"
   ]
  },
  {
   "cell_type": "markdown",
   "metadata": {},
   "source": [
    "Representa la distribucion de los **datos** predichos por un modelo, mientras que la distribución _a posteriori_ es la representación de nuestro conocimiento actualizado sobre un **parametro**."
   ]
  },
  {
   "cell_type": "markdown",
   "metadata": {},
   "source": [
    "\n",
    "5) Una pizzería reparte folletos con descuentos en la vía publica. De los 3330 folletos repartidos, 843 fueron utilizados por clientes para comprar pizzas. La probabilidad de conversión, $\\theta$, representa la probabilidad de que un cliente que recibió el folleto realice una compra. \n",
    "\n",
    "La probabilidad a posteriori de $\\theta$ resultó ser $\\text{Beta}(847.5, 2491.5)$.\n",
    "\n",
    "a) ¿Cuál es la distribución _a priori_ utilizada? \n",
    "\n",
    "b) ¿Qué concepción previa representa el _a priori_ utilizado?"
   ]
  },
  {
   "cell_type": "markdown",
   "metadata": {},
   "source": [
    "a) Como tenemos un problema con ensayos y exitos, la _likelihood_ se puede modelar con una Binomial.  \n",
    "Sabiendo eso, y que la _posterior_ resultó ser una Beta, podemos suponer que la distribución _prior_ debe ser una Beta ya que es la dsitribución conjugada de la _likelihood_.  \n",
    "\n",
    "b) Como en un modelo Beta-Binomial la _posterior_ tiene la forma $Beta(\\alpha + exitos, \\beta + fracasos)$ cuando el _prior_ es $Beta(\\alpha, \\beta)$ entonces podemos decir que este _prior_ tiene forma $Beta(4.5, 4.5)$"
   ]
  }
 ],
 "metadata": {
  "kernelspec": {
   "display_name": "Python 3",
   "language": "python",
   "name": "python3"
  },
  "language_info": {
   "codemirror_mode": {
    "name": "ipython",
    "version": 3
   },
   "file_extension": ".py",
   "mimetype": "text/x-python",
   "name": "python",
   "nbconvert_exporter": "python",
   "pygments_lexer": "ipython3",
   "version": "3.12.1"
  }
 },
 "nbformat": 4,
 "nbformat_minor": 2
}
