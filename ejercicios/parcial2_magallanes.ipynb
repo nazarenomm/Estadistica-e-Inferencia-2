{
 "cells": [
  {
   "cell_type": "markdown",
   "metadata": {},
   "source": [
    "# 1.\n",
    "\n",
    "a) La distribucion posterior predictiva representa la distribución de nuevas observaciones. La distribución a posteriori es la conjunta de los parametros.  \n",
    "\n",
    "b) Una prueba predictiva a priori consiste en identificar un comportamiento inesperado para la distribucion predictiva a priori. Con el objetivo de ver si los priors fueron bien definidos.\n",
    "\n",
    "c)\n"
   ]
  },
  {
   "cell_type": "markdown",
   "metadata": {},
   "source": [
    "# 2.\n",
    "\n",
    "a) La máxima verosimilitud y un término de penalización, éste último penaliza los modelos por su cantidad de paramétros.\n",
    "\n",
    "b) WAIC usa distribuciones en lugar de mle, siendo así aplicable en un contexto bayesiano."
   ]
  },
  {
   "cell_type": "markdown",
   "metadata": {},
   "source": [
    "# 3.\n",
    "a) Supongo que nunca (o casi nunca) ya que AIC no está pensado para hacer estadística bayesiana.\n",
    "\n",
    "b) "
   ]
  },
  {
   "cell_type": "markdown",
   "metadata": {},
   "source": [
    "# 5.\n",
    "a) Significa que las muestras están muy correlacionadas o que hay pocas muestras.\n",
    "\n",
    "b) Es una medida que te dice que tanto se parecen las cadenas de Markov, se calcula usando la varianza de las cadenas entre sí y la varianza interna (supongo que promediada).\n",
    "\n",
    "c) Significa que las cadenas no recorrieron la misma distribucion  a posteriori."
   ]
  },
  {
   "cell_type": "markdown",
   "metadata": {},
   "source": [
    "# 6.\n",
    "\n",
    "a) Un GLM:\n",
    "$$\n",
    "intercepto \\sim N(10,10)\n",
    "$$\n",
    "$$\n",
    "pendiente \\sim N(0,10)\n",
    "$$\n",
    "$$\n",
    "\\mu = intercepto + pendiente * X  \n",
    "$$\n",
    "$$\n",
    "f(Y) = \\Phi(\\mu, \\sigma)\n",
    "$$\n",
    "Donde $\\Phi$ es generalmente una distribución de la familia exponencial.\n",
    "\n",
    "Que un GLM generaliza quiere decir que nos permite usar otras distribuciones, además de la normal, para el likelihood.\n",
    "\n",
    "b) El propocito de la función de enlace es modificar el termino lineal $\\mu$ para que pueda ser utilizado en la distribucion likelihood.\n",
    "\n",
    "c) El modelo lineal generalizado jerárquico se usa cuando queremos modelar grupos, es un GLM pero introduce hiperpriors que definen un comportamiento a nivel global."
   ]
  }
 ],
 "metadata": {
  "language_info": {
   "name": "python"
  }
 },
 "nbformat": 4,
 "nbformat_minor": 2
}
